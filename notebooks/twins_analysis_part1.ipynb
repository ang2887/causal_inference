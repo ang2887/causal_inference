{
 "cells": [
  {
   "cell_type": "code",
   "execution_count": 1,
   "metadata": {},
   "outputs": [],
   "source": [
    "import pandas as pd\n",
    "import numpy as np\n",
    "import matplotlib.pyplot as plt\n",
    "import statsmodels.formula.api as smf\n",
    "import graphviz as gr\n",
    "import os"
   ]
  },
  {
   "cell_type": "code",
   "execution_count": 2,
   "metadata": {},
   "outputs": [],
   "source": [
    "twin_pairs_dfs = []\n",
    "\n",
    "for file in os.listdir('../data/'):\n",
    "    if 'twin_pairs' in file:\n",
    "        df = pd.read_csv(f\"../data/{file}\")\n",
    "        unwanted_columns = [col for col in df.columns if 'Unnamed' in col]\n",
    "        df.drop(columns=unwanted_columns,inplace=True)\n",
    "        twin_pairs_dfs.append(df)\n",
    "\n",
    "df = pd.concat(twin_pairs_dfs, axis=1)\n"
   ]
  },
  {
   "cell_type": "code",
   "execution_count": 3,
   "metadata": {},
   "outputs": [
    {
     "data": {
      "text/plain": [
       "Index(['dbirwt_0', 'dbirwt_1', 'mort_0', 'mort_1', 'brstate', 'stoccfipb',\n",
       "       'mager8', 'mrace', 'dmar', 'birmon', 'gestat10', 'csex', 'crace',\n",
       "       'data_year', 'infant_id_0', 'infant_id_1', 'brstate_reg',\n",
       "       'stoccfipb_reg'],\n",
       "      dtype='object')"
      ]
     },
     "execution_count": 3,
     "metadata": {},
     "output_type": "execute_result"
    }
   ],
   "source": [
    "df.columns[df.isna().mean() == 0]"
   ]
  },
  {
   "cell_type": "markdown",
   "metadata": {},
   "source": [
    "## messing around - part 1"
   ]
  },
  {
   "cell_type": "code",
   "execution_count": 4,
   "metadata": {},
   "outputs": [],
   "source": [
    "# our motivation - we want to know if csex can help predict unhealthy weights\n",
    "# we have to account for the fact that there's already a difference between birthweight between sexes\n",
    "# y = weight difference between twins / combined weight / average weight\n",
    "# y = combined weight of the twins/(avg(combined weight within the sex))\n",
    "# for a perfectly average birthweight y = 1\n",
    "# avg combined birthweight for boys is 2000g -> y = 1\n",
    "# avg combined birthweight for girls is 1800g  -> y = 1\n",
    "# a pair of boys is combined 2200/2000 = 1.1\n",
    "# x = csex 1/0\n",
    "# maybe one sex is more prone to extreme weight fluctuations from the average"
   ]
  },
  {
   "cell_type": "code",
   "execution_count": 5,
   "metadata": {},
   "outputs": [],
   "source": [
    "# the average combined birthweight grouped by csex\n",
    "# for each row, we combine birthweights and divide by the quantity above\n",
    "df['combined_weight'] = df['dbirwt_0'] + df['dbirwt_1']\n",
    "df['normed_avg'] = 0\n",
    "df.loc[df['csex'] == 0,'normed_avg'] = df['combined_weight']/df.groupby('csex')['combined_weight'].mean()[0]\n",
    "df.loc[df['csex'] == 1,'normed_avg'] = df['combined_weight']/df.groupby('csex')['combined_weight'].mean()[1]"
   ]
  },
  {
   "cell_type": "code",
   "execution_count": 6,
   "metadata": {},
   "outputs": [
    {
     "data": {
      "image/png": "[encoded data removed]",
      "text/plain": [
       "<Figure size 640x480 with 1 Axes>"
      ]
     },
     "metadata": {},
     "output_type": "display_data"
    }
   ],
   "source": [
    "plt.figure()\n",
    "plt.hist(df.loc[df['csex'] == 0,'normed_avg'],alpha=.6,label = \"0\")\n",
    "plt.hist(df.loc[df['csex'] == 1,'normed_avg'],alpha=.6,label=\"1\")\n",
    "plt.title(\"normed combined weight\\ncsex 1 vs csex 0\")\n",
    "plt.legend()\n",
    "plt.show()"
   ]
  },
  {
   "cell_type": "code",
   "execution_count": 7,
   "metadata": {},
   "outputs": [
    {
     "data": {
      "image/svg+xml": [
       "<?xml version=\"1.0\" encoding=\"UTF-8\" standalone=\"no\"?>\n",
       "<!DOCTYPE svg PUBLIC \"-//W3C//DTD SVG 1.1//EN\"\n",
       " \"http://www.w3.org/Graphics/SVG/1.1/DTD/svg11.dtd\">\n",
       "<!-- Generated by graphviz version 8.1.0 (0)\n",
       " -->\n",
       "<!-- Pages: 1 -->\n",
       "<svg width=\"119pt\" height=\"116pt\"\n",
       " viewBox=\"0.00 0.00 118.89 116.00\" xmlns=\"http://www.w3.org/2000/svg\" xmlns:xlink=\"http://www.w3.org/1999/xlink\">\n",
       "<g id=\"graph0\" class=\"graph\" transform=\"scale(1 1) rotate(0) translate(4 112)\">\n",
       "<polygon fill=\"white\" stroke=\"none\" points=\"-4,4 -4,-112 114.89,-112 114.89,4 -4,4\"/>\n",
       "<!-- csex -->\n",
       "<g id=\"node1\" class=\"node\">\n",
       "<title>csex</title>\n",
       "<ellipse fill=\"none\" stroke=\"black\" cx=\"55.45\" cy=\"-90\" rx=\"27.3\" ry=\"18\"/>\n",
       "<text text-anchor=\"middle\" x=\"55.45\" y=\"-84.95\" font-family=\"Times,serif\" font-size=\"14.00\">csex</text>\n",
       "</g>\n",
       "<!-- normed avg -->\n",
       "<g id=\"node2\" class=\"node\">\n",
       "<title>normed avg</title>\n",
       "<ellipse fill=\"none\" stroke=\"black\" cx=\"55.45\" cy=\"-18\" rx=\"55.45\" ry=\"18\"/>\n",
       "<text text-anchor=\"middle\" x=\"55.45\" y=\"-12.95\" font-family=\"Times,serif\" font-size=\"14.00\">normed avg</text>\n",
       "</g>\n",
       "<!-- csex&#45;&gt;normed avg -->\n",
       "<g id=\"edge1\" class=\"edge\">\n",
       "<title>csex&#45;&gt;normed avg</title>\n",
       "<path fill=\"none\" stroke=\"black\" d=\"M55.45,-71.7C55.45,-64.24 55.45,-55.32 55.45,-46.97\"/>\n",
       "<polygon fill=\"black\" stroke=\"black\" points=\"58.95,-47.1 55.45,-37.1 51.95,-47.1 58.95,-47.1\"/>\n",
       "</g>\n",
       "</g>\n",
       "</svg>\n"
      ],
      "text/plain": [
       "<graphviz.graphs.Digraph at 0x1617cc890>"
      ]
     },
     "execution_count": 7,
     "metadata": {},
     "output_type": "execute_result"
    }
   ],
   "source": [
    "g = gr.Digraph()\n",
    "\n",
    "g.edge(\"csex\", \"normed avg\")\n",
    "\n",
    "g"
   ]
  },
  {
   "cell_type": "code",
   "execution_count": 8,
   "metadata": {},
   "outputs": [
    {
     "data": {
      "text/html": [
       "<table class=\"simpletable\">\n",
       "<tr>\n",
       "      <td></td>         <th>coef</th>     <th>std err</th>      <th>t</th>      <th>P>|t|</th>  <th>[0.025</th>    <th>0.975]</th>  \n",
       "</tr>\n",
       "<tr>\n",
       "  <th>Intercept</th> <td>    1.0000</td> <td>    0.001</td> <td>  719.445</td> <td> 0.000</td> <td>    0.997</td> <td>    1.003</td>\n",
       "</tr>\n",
       "<tr>\n",
       "  <th>csex</th>      <td>-2.271e-15</td> <td>    0.002</td> <td>-1.16e-12</td> <td> 1.000</td> <td>   -0.004</td> <td>    0.004</td>\n",
       "</tr>\n",
       "</table>"
      ],
      "text/latex": [
       "\\begin{center}\n",
       "\\begin{tabular}{lcccccc}\n",
       "\\toprule\n",
       "                   & \\textbf{coef} & \\textbf{std err} & \\textbf{t} & \\textbf{P$> |$t$|$} & \\textbf{[0.025} & \\textbf{0.975]}  \\\\\n",
       "\\midrule\n",
       "\\textbf{Intercept} &       1.0000  &        0.001     &   719.445  &         0.000        &        0.997    &        1.003     \\\\\n",
       "\\textbf{csex}      &   -2.271e-15  &        0.002     & -1.16e-12  &         1.000        &       -0.004    &        0.004     \\\\\n",
       "\\bottomrule\n",
       "\\end{tabular}\n",
       "\\end{center}"
      ],
      "text/plain": [
       "<class 'statsmodels.iolib.table.SimpleTable'>"
      ]
     },
     "execution_count": 8,
     "metadata": {},
     "output_type": "execute_result"
    }
   ],
   "source": [
    "result = smf.ols('normed_avg ~ csex', data=df[['normed_avg','csex']]).fit()\n",
    "result.summary().tables[1]"
   ]
  },
  {
   "cell_type": "code",
   "execution_count": 9,
   "metadata": {},
   "outputs": [
    {
     "data": {
      "text/plain": [
       "-2.220446049250313e-16"
      ]
     },
     "execution_count": 9,
     "metadata": {},
     "output_type": "execute_result"
    }
   ],
   "source": [
    "result.rsquared\n",
    "# predicted normed_avg weight = regression formula = 1 - .000..0*csex{0,1}\n",
    "# rsquared is a measure of the overall \"quality\" of the model - is it good is it bad\n",
    "# \"percentage of variance explained...how much of the variance in normed_avg is explained by csex\"\n",
    "# rsquared = 1 --> 100% of the variance in y is explained by x --> a perfect model y_predicted - y_actual is always 0\n",
    "# rsquared = 0 --> 0% of the variance in y is explained by x --> if y_predicted = avg(y)"
   ]
  },
  {
   "cell_type": "markdown",
   "metadata": {},
   "source": [
    "## reflection\n",
    "\n",
    "the above regression actually doesn't make sense.\n",
    "\n",
    "by normalizing the weight by sex, we are in effect accounting for the variation in weight due to sex. to then regress on sex is redundant, any additional variation will not be due to sex. "
   ]
  },
  {
   "cell_type": "code",
   "execution_count": 10,
   "metadata": {},
   "outputs": [
    {
     "data": {
      "text/html": [
       "<table class=\"simpletable\">\n",
       "<tr>\n",
       "      <td></td>         <th>coef</th>     <th>std err</th>      <th>t</th>      <th>P>|t|</th>  <th>[0.025</th>    <th>0.975]</th>  \n",
       "</tr>\n",
       "<tr>\n",
       "  <th>Intercept</th> <td> 4736.4607</td> <td>    6.685</td> <td>  708.544</td> <td> 0.000</td> <td> 4723.359</td> <td> 4749.563</td>\n",
       "</tr>\n",
       "<tr>\n",
       "  <th>csex</th>      <td>  137.7583</td> <td>    9.421</td> <td>   14.622</td> <td> 0.000</td> <td>  119.292</td> <td>  156.224</td>\n",
       "</tr>\n",
       "</table>"
      ],
      "text/latex": [
       "\\begin{center}\n",
       "\\begin{tabular}{lcccccc}\n",
       "\\toprule\n",
       "                   & \\textbf{coef} & \\textbf{std err} & \\textbf{t} & \\textbf{P$> |$t$|$} & \\textbf{[0.025} & \\textbf{0.975]}  \\\\\n",
       "\\midrule\n",
       "\\textbf{Intercept} &    4736.4607  &        6.685     &   708.544  &         0.000        &     4723.359    &     4749.563     \\\\\n",
       "\\textbf{csex}      &     137.7583  &        9.421     &    14.622  &         0.000        &      119.292    &      156.224     \\\\\n",
       "\\bottomrule\n",
       "\\end{tabular}\n",
       "\\end{center}"
      ],
      "text/plain": [
       "<class 'statsmodels.iolib.table.SimpleTable'>"
      ]
     },
     "execution_count": 10,
     "metadata": {},
     "output_type": "execute_result"
    }
   ],
   "source": [
    "# let's just straightforwardly model combined twin weight as a function of sex \n",
    "result = smf.ols('combined_weight ~ csex', data=df[['combined_weight','csex']]).fit()\n",
    "result.summary().tables[1]"
   ]
  },
  {
   "cell_type": "code",
   "execution_count": 11,
   "metadata": {},
   "outputs": [
    {
     "data": {
      "text/plain": [
       "csex\n",
       "0    4736.460666\n",
       "1    4874.218943\n",
       "Name: combined_weight, dtype: float64"
      ]
     },
     "execution_count": 11,
     "metadata": {},
     "output_type": "execute_result"
    }
   ],
   "source": [
    "df.groupby('csex')['combined_weight'].mean() # compare this to the regression coefficients - notice anything??"
   ]
  },
  {
   "cell_type": "code",
   "execution_count": 12,
   "metadata": {},
   "outputs": [
    {
     "data": {
      "image/svg+xml": [
       "<?xml version=\"1.0\" encoding=\"UTF-8\" standalone=\"no\"?>\n",
       "<!DOCTYPE svg PUBLIC \"-//W3C//DTD SVG 1.1//EN\"\n",
       " \"http://www.w3.org/Graphics/SVG/1.1/DTD/svg11.dtd\">\n",
       "<!-- Generated by graphviz version 8.1.0 (0)\n",
       " -->\n",
       "<!-- Pages: 1 -->\n",
       "<svg width=\"159pt\" height=\"188pt\"\n",
       " viewBox=\"0.00 0.00 158.81 188.00\" xmlns=\"http://www.w3.org/2000/svg\" xmlns:xlink=\"http://www.w3.org/1999/xlink\">\n",
       "<g id=\"graph0\" class=\"graph\" transform=\"scale(1 1) rotate(0) translate(4 184)\">\n",
       "<polygon fill=\"white\" stroke=\"none\" points=\"-4,4 -4,-184 154.81,-184 154.81,4 -4,4\"/>\n",
       "<!-- csex -->\n",
       "<g id=\"node1\" class=\"node\">\n",
       "<title>csex</title>\n",
       "<ellipse fill=\"none\" stroke=\"black\" cx=\"75.41\" cy=\"-162\" rx=\"27.3\" ry=\"18\"/>\n",
       "<text text-anchor=\"middle\" x=\"75.41\" y=\"-156.95\" font-family=\"Times,serif\" font-size=\"14.00\">csex</text>\n",
       "</g>\n",
       "<!-- combined weight -->\n",
       "<g id=\"node2\" class=\"node\">\n",
       "<title>combined weight</title>\n",
       "<ellipse fill=\"none\" stroke=\"black\" cx=\"75.41\" cy=\"-18\" rx=\"75.41\" ry=\"18\"/>\n",
       "<text text-anchor=\"middle\" x=\"75.41\" y=\"-12.95\" font-family=\"Times,serif\" font-size=\"14.00\">combined weight</text>\n",
       "</g>\n",
       "<!-- csex&#45;&gt;combined weight -->\n",
       "<g id=\"edge1\" class=\"edge\">\n",
       "<title>csex&#45;&gt;combined weight</title>\n",
       "<path fill=\"none\" stroke=\"black\" d=\"M69.73,-144.04C66.58,-133.74 63,-120.27 61.41,-108 59.35,-92.13 59.35,-87.87 61.41,-72 62.48,-63.69 64.48,-54.84 66.63,-46.79\"/>\n",
       "<polygon fill=\"black\" stroke=\"black\" points=\"70.2,-48.02 69.58,-37.44 63.47,-46.09 70.2,-48.02\"/>\n",
       "</g>\n",
       "<!-- cardiac -->\n",
       "<g id=\"node3\" class=\"node\">\n",
       "<title>cardiac</title>\n",
       "<ellipse fill=\"none\" stroke=\"black\" cx=\"108.41\" cy=\"-90\" rx=\"37.53\" ry=\"18\"/>\n",
       "<text text-anchor=\"middle\" x=\"108.41\" y=\"-84.95\" font-family=\"Times,serif\" font-size=\"14.00\">cardiac</text>\n",
       "</g>\n",
       "<!-- csex&#45;&gt;cardiac -->\n",
       "<g id=\"edge2\" class=\"edge\">\n",
       "<title>csex&#45;&gt;cardiac</title>\n",
       "<path fill=\"none\" stroke=\"black\" d=\"M83.23,-144.41C86.99,-136.42 91.6,-126.64 95.85,-117.64\"/>\n",
       "<polygon fill=\"black\" stroke=\"black\" points=\"99.31,-119.49 100.41,-108.96 92.98,-116.51 99.31,-119.49\"/>\n",
       "</g>\n",
       "<!-- cardiac&#45;&gt;combined weight -->\n",
       "<g id=\"edge3\" class=\"edge\">\n",
       "<title>cardiac&#45;&gt;combined weight</title>\n",
       "<path fill=\"none\" stroke=\"black\" d=\"M100.42,-72.05C96.74,-64.26 92.29,-54.82 88.17,-46.08\"/>\n",
       "<polygon fill=\"black\" stroke=\"black\" points=\"90.98,-44.83 83.55,-37.28 84.65,-47.81 90.98,-44.83\"/>\n",
       "</g>\n",
       "</g>\n",
       "</svg>\n"
      ],
      "text/plain": [
       "<graphviz.graphs.Digraph at 0x15ccd1f90>"
      ]
     },
     "execution_count": 12,
     "metadata": {},
     "output_type": "execute_result"
    }
   ],
   "source": [
    "# again, we know we are naive about what causes what in biology\n",
    "# we're just going to make up a theory\n",
    "# the sex of the infant/fetus impacts the weight directly (this particular claim is pretty intuitive)\n",
    "# and so does the cardiac risk of the mother (also not a head-scratching claim)\n",
    "# but we also claim that sex influences cardiac risk - we have no idea if this is true.\n",
    "\n",
    "df = df[~df['cardiac'].isna()]\n",
    "\n",
    "g = gr.Digraph()\n",
    "\n",
    "g.edge(\"csex\", \"combined weight\")\n",
    "g.edge(\"csex\",\"cardiac\")\n",
    "g.edge(\"cardiac\",\"combined weight\")\n",
    "\n",
    "g"
   ]
  },
  {
   "cell_type": "code",
   "execution_count": 13,
   "metadata": {},
   "outputs": [
    {
     "data": {
      "text/html": [
       "<table class=\"simpletable\">\n",
       "<tr>\n",
       "      <td></td>         <th>coef</th>     <th>std err</th>      <th>t</th>      <th>P>|t|</th>  <th>[0.025</th>    <th>0.975]</th>  \n",
       "</tr>\n",
       "<tr>\n",
       "  <th>Intercept</th> <td> 4745.1990</td> <td>    6.873</td> <td>  690.448</td> <td> 0.000</td> <td> 4731.729</td> <td> 4758.669</td>\n",
       "</tr>\n",
       "<tr>\n",
       "  <th>csex</th>      <td>  141.8813</td> <td>    9.673</td> <td>   14.667</td> <td> 0.000</td> <td>  122.922</td> <td>  160.841</td>\n",
       "</tr>\n",
       "<tr>\n",
       "  <th>cardiac</th>   <td> -155.3530</td> <td>   78.762</td> <td>   -1.972</td> <td> 0.049</td> <td> -309.725</td> <td>   -0.980</td>\n",
       "</tr>\n",
       "</table>"
      ],
      "text/latex": [
       "\\begin{center}\n",
       "\\begin{tabular}{lcccccc}\n",
       "\\toprule\n",
       "                   & \\textbf{coef} & \\textbf{std err} & \\textbf{t} & \\textbf{P$> |$t$|$} & \\textbf{[0.025} & \\textbf{0.975]}  \\\\\n",
       "\\midrule\n",
       "\\textbf{Intercept} &    4745.1990  &        6.873     &   690.448  &         0.000        &     4731.729    &     4758.669     \\\\\n",
       "\\textbf{csex}      &     141.8813  &        9.673     &    14.667  &         0.000        &      122.922    &      160.841     \\\\\n",
       "\\textbf{cardiac}   &    -155.3530  &       78.762     &    -1.972  &         0.049        &     -309.725    &       -0.980     \\\\\n",
       "\\bottomrule\n",
       "\\end{tabular}\n",
       "\\end{center}"
      ],
      "text/plain": [
       "<class 'statsmodels.iolib.table.SimpleTable'>"
      ]
     },
     "execution_count": 13,
     "metadata": {},
     "output_type": "execute_result"
    }
   ],
   "source": [
    "result = smf.ols('combined_weight ~ csex + cardiac', data=df[['combined_weight','csex','cardiac']]).fit()\n",
    "result.summary().tables[1]"
   ]
  },
  {
   "cell_type": "code",
   "execution_count": 14,
   "metadata": {},
   "outputs": [],
   "source": [
    "def predicted_combined_weight(csex,cardiac):\n",
    "\n",
    "    prediction = 4745.1990 + 141.8813*csex - 155.3530*cardiac\n",
    "\n",
    "    return prediction"
   ]
  },
  {
   "cell_type": "code",
   "execution_count": 15,
   "metadata": {},
   "outputs": [
    {
     "data": {
      "text/plain": [
       "(4887.0803, 4731.7273)"
      ]
     },
     "execution_count": 15,
     "metadata": {},
     "output_type": "execute_result"
    }
   ],
   "source": [
    "predicted_combined_weight(1,0), predicted_combined_weight(1,1)"
   ]
  },
  {
   "cell_type": "code",
   "execution_count": 16,
   "metadata": {},
   "outputs": [
    {
     "data": {
      "text/plain": [
       "csex  cardiac\n",
       "0     0.0        4745.113600\n",
       "      1.0        4610.518248\n",
       "1     0.0        4887.164390\n",
       "      1.0        4707.521368\n",
       "Name: combined_weight, dtype: float64"
      ]
     },
     "execution_count": 16,
     "metadata": {},
     "output_type": "execute_result"
    }
   ],
   "source": [
    "df.groupby(['csex','cardiac'])['combined_weight'].mean()"
   ]
  },
  {
   "cell_type": "markdown",
   "metadata": {},
   "source": [
    "## messing around - part 2"
   ]
  },
  {
   "cell_type": "code",
   "execution_count": 17,
   "metadata": {},
   "outputs": [
    {
     "data": {
      "image/png": "[encoded data removed]",
      "text/plain": [
       "<Figure size 1300x800 with 2 Axes>"
      ]
     },
     "metadata": {},
     "output_type": "display_data"
    }
   ],
   "source": [
    "df['bw_difference'] =  df['dbirwt_1'] - df['dbirwt_0']\n",
    "\n",
    "plt.subplots(1,2,figsize = (13,8))\n",
    "\n",
    "plt.subplot(1,2,1)\n",
    "plt.hist(df['bw_difference'])\n",
    "plt.title(\"difference in weight between twins\")\n",
    "\n",
    "plt.subplot(1,2,2)\n",
    "plt.hist(df['mager8'])\n",
    "plt.title(\"mothers age (in octiles)\")\n",
    "\n",
    "plt.show()"
   ]
  },
  {
   "cell_type": "code",
   "execution_count": 18,
   "metadata": {},
   "outputs": [
    {
     "data": {
      "image/svg+xml": [
       "<?xml version=\"1.0\" encoding=\"UTF-8\" standalone=\"no\"?>\n",
       "<!DOCTYPE svg PUBLIC \"-//W3C//DTD SVG 1.1//EN\"\n",
       " \"http://www.w3.org/Graphics/SVG/1.1/DTD/svg11.dtd\">\n",
       "<!-- Generated by graphviz version 8.1.0 (0)\n",
       " -->\n",
       "<!-- Pages: 1 -->\n",
       "<svg width=\"116pt\" height=\"116pt\"\n",
       " viewBox=\"0.00 0.00 115.82 116.00\" xmlns=\"http://www.w3.org/2000/svg\" xmlns:xlink=\"http://www.w3.org/1999/xlink\">\n",
       "<g id=\"graph0\" class=\"graph\" transform=\"scale(1 1) rotate(0) translate(4 112)\">\n",
       "<polygon fill=\"white\" stroke=\"none\" points=\"-4,4 -4,-112 111.82,-112 111.82,4 -4,4\"/>\n",
       "<!-- mager8 -->\n",
       "<g id=\"node1\" class=\"node\">\n",
       "<title>mager8</title>\n",
       "<ellipse fill=\"none\" stroke=\"black\" cx=\"53.91\" cy=\"-90\" rx=\"39.07\" ry=\"18\"/>\n",
       "<text text-anchor=\"middle\" x=\"53.91\" y=\"-84.95\" font-family=\"Times,serif\" font-size=\"14.00\">mager8</text>\n",
       "</g>\n",
       "<!-- weight_diff -->\n",
       "<g id=\"node2\" class=\"node\">\n",
       "<title>weight_diff</title>\n",
       "<ellipse fill=\"none\" stroke=\"black\" cx=\"53.91\" cy=\"-18\" rx=\"53.91\" ry=\"18\"/>\n",
       "<text text-anchor=\"middle\" x=\"53.91\" y=\"-12.95\" font-family=\"Times,serif\" font-size=\"14.00\">weight_diff</text>\n",
       "</g>\n",
       "<!-- mager8&#45;&gt;weight_diff -->\n",
       "<g id=\"edge1\" class=\"edge\">\n",
       "<title>mager8&#45;&gt;weight_diff</title>\n",
       "<path fill=\"none\" stroke=\"black\" d=\"M53.91,-71.7C53.91,-64.24 53.91,-55.32 53.91,-46.97\"/>\n",
       "<polygon fill=\"black\" stroke=\"black\" points=\"57.41,-47.1 53.91,-37.1 50.41,-47.1 57.41,-47.1\"/>\n",
       "</g>\n",
       "</g>\n",
       "</svg>\n"
      ],
      "text/plain": [
       "<graphviz.graphs.Digraph at 0x161adf610>"
      ]
     },
     "execution_count": 18,
     "metadata": {},
     "output_type": "execute_result"
    }
   ],
   "source": [
    "g = gr.Digraph()\n",
    "\n",
    "g.edge(\"mager8\", \"weight_diff\")\n",
    "\n",
    "g"
   ]
  },
  {
   "cell_type": "code",
   "execution_count": 19,
   "metadata": {},
   "outputs": [
    {
     "data": {
      "text/html": [
       "<table class=\"simpletable\">\n",
       "<tr>\n",
       "      <td></td>         <th>coef</th>     <th>std err</th>      <th>t</th>      <th>P>|t|</th>  <th>[0.025</th>    <th>0.975]</th>  \n",
       "</tr>\n",
       "<tr>\n",
       "  <th>Intercept</th> <td>  235.0297</td> <td>    3.576</td> <td>   65.717</td> <td> 0.000</td> <td>  228.020</td> <td>  242.039</td>\n",
       "</tr>\n",
       "<tr>\n",
       "  <th>mager8</th>    <td>   12.0681</td> <td>    0.842</td> <td>   14.339</td> <td> 0.000</td> <td>   10.419</td> <td>   13.718</td>\n",
       "</tr>\n",
       "</table>"
      ],
      "text/latex": [
       "\\begin{center}\n",
       "\\begin{tabular}{lcccccc}\n",
       "\\toprule\n",
       "                   & \\textbf{coef} & \\textbf{std err} & \\textbf{t} & \\textbf{P$> |$t$|$} & \\textbf{[0.025} & \\textbf{0.975]}  \\\\\n",
       "\\midrule\n",
       "\\textbf{Intercept} &     235.0297  &        3.576     &    65.717  &         0.000        &      228.020    &      242.039     \\\\\n",
       "\\textbf{mager8}    &      12.0681  &        0.842     &    14.339  &         0.000        &       10.419    &       13.718     \\\\\n",
       "\\bottomrule\n",
       "\\end{tabular}\n",
       "\\end{center}"
      ],
      "text/plain": [
       "<class 'statsmodels.iolib.table.SimpleTable'>"
      ]
     },
     "execution_count": 19,
     "metadata": {},
     "output_type": "execute_result"
    }
   ],
   "source": [
    "result = smf.ols('bw_difference ~ mager8', data=df[['bw_difference','mager8']]).fit()\n",
    "result.summary().tables[1]"
   ]
  },
  {
   "cell_type": "markdown",
   "metadata": {},
   "source": [
    "$bw_{1j} - bw_{0j} = \\beta_{0} + age_{j}\\cdot\\beta_{age} + \\epsilon$\n"
   ]
  },
  {
   "cell_type": "code",
   "execution_count": 1,
   "metadata": {},
   "outputs": [],
   "source": [
    "def bw_difference_regression_formula(mothers_age,intercept = 235.0297,beta_age = 12.0681):\n",
    "\n",
    "    prediction = intercept + beta_age*mothers_age\n",
    "\n",
    "    return prediction\n",
    "\n",
    "    \n",
    "    "
   ]
  },
  {
   "cell_type": "code",
   "execution_count": 2,
   "metadata": {},
   "outputs": [
    {
     "data": {
      "text/plain": [
       "247.09779999999998"
      ]
     },
     "execution_count": 2,
     "metadata": {},
     "output_type": "execute_result"
    }
   ],
   "source": [
    "# mothers age can take a value in {1,2,3,4,5,6,7,8}\n",
    "\n",
    "bw_difference_regression_formula(1)"
   ]
  },
  {
   "cell_type": "code",
   "execution_count": 4,
   "metadata": {},
   "outputs": [
    {
     "data": {
      "text/plain": [
       "84.47670000000002"
      ]
     },
     "execution_count": 4,
     "metadata": {},
     "output_type": "execute_result"
    }
   ],
   "source": [
    "bw_difference_regression_formula(8) - bw_difference_regression_formula(1)"
   ]
  },
  {
   "cell_type": "code",
   "execution_count": null,
   "metadata": {},
   "outputs": [],
   "source": [
    "# increasing mothers age octile by 1 -> predicts 12 additional grams of difference between the heavier and lighter infant"
   ]
  }
 ],
 "metadata": {
  "kernelspec": {
   "display_name": "basic",
   "language": "python",
   "name": "python3"
  },
  "language_info": {
   "codemirror_mode": {
    "name": "ipython",
    "version": 3
   },
   "file_extension": ".py",
   "mimetype": "text/x-python",
   "name": "python",
   "nbconvert_exporter": "python",
   "pygments_lexer": "ipython3",
   "version": "3.11.7"
  },
  "orig_nbformat": 4
 },
 "nbformat": 4,
 "nbformat_minor": 2
}
