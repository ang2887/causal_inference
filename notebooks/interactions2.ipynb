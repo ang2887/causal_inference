{
 "cells": [
  {
   "cell_type": "code",
   "execution_count": null,
   "metadata": {},
   "outputs": [],
   "source": [
    "# data\n",
    "\n",
    "# birthweights of twins - twin0, twin1 - grams (thousands)\n",
    "\n",
    "# mortality of twins - twin0, twin1 - binary 1/0\n",
    "\n",
    "# 50 features related to health/birth risk factors of the mother"
   ]
  },
  {
   "cell_type": "code",
   "execution_count": 1,
   "metadata": {},
   "outputs": [],
   "source": [
    "import pandas as pd\n",
    "import numpy as np\n",
    "import matplotlib.pyplot as plt\n",
    "import statsmodels.formula.api as smf\n",
    "import graphviz as gr\n",
    "import os\n",
    "\n",
    "def twins_data():\n",
    "    twin_pairs_dfs = []\n",
    "\n",
    "    for file in os.listdir('../data/'):\n",
    "        if 'twin_pairs' in file:\n",
    "            df = pd.read_csv(f\"../data/{file}\")\n",
    "            unwanted_columns = [col for col in df.columns if 'Unnamed' in col]\n",
    "            df.drop(columns=unwanted_columns,inplace=True)\n",
    "            twin_pairs_dfs.append(df)\n",
    "\n",
    "    df = pd.concat(twin_pairs_dfs, axis=1)\n",
    "\n",
    "    return df\n"
   ]
  },
  {
   "cell_type": "code",
   "execution_count": 2,
   "metadata": {},
   "outputs": [
    {
     "data": {
      "text/html": [
       "<div>\n",
       "<style scoped>\n",
       "    .dataframe tbody tr th:only-of-type {\n",
       "        vertical-align: middle;\n",
       "    }\n",
       "\n",
       "    .dataframe tbody tr th {\n",
       "        vertical-align: top;\n",
       "    }\n",
       "\n",
       "    .dataframe thead th {\n",
       "        text-align: right;\n",
       "    }\n",
       "</style>\n",
       "<table border=\"1\" class=\"dataframe\">\n",
       "  <thead>\n",
       "    <tr style=\"text-align: right;\">\n",
       "      <th></th>\n",
       "      <th>dbirwt_0</th>\n",
       "      <th>dbirwt_1</th>\n",
       "      <th>mort_0</th>\n",
       "      <th>mort_1</th>\n",
       "      <th>pldel</th>\n",
       "      <th>birattnd</th>\n",
       "      <th>brstate</th>\n",
       "      <th>stoccfipb</th>\n",
       "      <th>mager8</th>\n",
       "      <th>ormoth</th>\n",
       "      <th>...</th>\n",
       "      <th>feduc6</th>\n",
       "      <th>infant_id_0</th>\n",
       "      <th>infant_id_1</th>\n",
       "      <th>dlivord_min</th>\n",
       "      <th>dtotord_min</th>\n",
       "      <th>bord_0</th>\n",
       "      <th>bord_1</th>\n",
       "      <th>brstate_reg</th>\n",
       "      <th>stoccfipb_reg</th>\n",
       "      <th>mplbir_reg</th>\n",
       "    </tr>\n",
       "  </thead>\n",
       "  <tbody>\n",
       "    <tr>\n",
       "      <th>0</th>\n",
       "      <td>2268.0</td>\n",
       "      <td>2296.0</td>\n",
       "      <td>0.0</td>\n",
       "      <td>0.0</td>\n",
       "      <td>1.0</td>\n",
       "      <td>1.0</td>\n",
       "      <td>1</td>\n",
       "      <td>1</td>\n",
       "      <td>3</td>\n",
       "      <td>0.0</td>\n",
       "      <td>...</td>\n",
       "      <td>NaN</td>\n",
       "      <td>1</td>\n",
       "      <td>0</td>\n",
       "      <td>NaN</td>\n",
       "      <td>NaN</td>\n",
       "      <td>NaN</td>\n",
       "      <td>NaN</td>\n",
       "      <td>5</td>\n",
       "      <td>5</td>\n",
       "      <td>1.0</td>\n",
       "    </tr>\n",
       "    <tr>\n",
       "      <th>1</th>\n",
       "      <td>2610.0</td>\n",
       "      <td>2650.0</td>\n",
       "      <td>0.0</td>\n",
       "      <td>0.0</td>\n",
       "      <td>1.0</td>\n",
       "      <td>1.0</td>\n",
       "      <td>1</td>\n",
       "      <td>1</td>\n",
       "      <td>3</td>\n",
       "      <td>0.0</td>\n",
       "      <td>...</td>\n",
       "      <td>NaN</td>\n",
       "      <td>7</td>\n",
       "      <td>6</td>\n",
       "      <td>2.0</td>\n",
       "      <td>3.0</td>\n",
       "      <td>2.0</td>\n",
       "      <td>1.0</td>\n",
       "      <td>5</td>\n",
       "      <td>5</td>\n",
       "      <td>5.0</td>\n",
       "    </tr>\n",
       "    <tr>\n",
       "      <th>2</th>\n",
       "      <td>1985.0</td>\n",
       "      <td>2098.0</td>\n",
       "      <td>0.0</td>\n",
       "      <td>0.0</td>\n",
       "      <td>1.0</td>\n",
       "      <td>1.0</td>\n",
       "      <td>1</td>\n",
       "      <td>1</td>\n",
       "      <td>5</td>\n",
       "      <td>0.0</td>\n",
       "      <td>...</td>\n",
       "      <td>3.0</td>\n",
       "      <td>11</td>\n",
       "      <td>10</td>\n",
       "      <td>NaN</td>\n",
       "      <td>NaN</td>\n",
       "      <td>NaN</td>\n",
       "      <td>NaN</td>\n",
       "      <td>5</td>\n",
       "      <td>5</td>\n",
       "      <td>1.0</td>\n",
       "    </tr>\n",
       "  </tbody>\n",
       "</table>\n",
       "<p>3 rows × 56 columns</p>\n",
       "</div>"
      ],
      "text/plain": [
       "   dbirwt_0  dbirwt_1  mort_0  mort_1  pldel  birattnd  brstate  stoccfipb  \\\n",
       "0    2268.0    2296.0     0.0     0.0    1.0       1.0        1          1   \n",
       "1    2610.0    2650.0     0.0     0.0    1.0       1.0        1          1   \n",
       "2    1985.0    2098.0     0.0     0.0    1.0       1.0        1          1   \n",
       "\n",
       "   mager8  ormoth  ...  feduc6  infant_id_0  infant_id_1  dlivord_min  \\\n",
       "0       3     0.0  ...     NaN            1            0          NaN   \n",
       "1       3     0.0  ...     NaN            7            6          2.0   \n",
       "2       5     0.0  ...     3.0           11           10          NaN   \n",
       "\n",
       "   dtotord_min  bord_0  bord_1  brstate_reg  stoccfipb_reg  mplbir_reg  \n",
       "0          NaN     NaN     NaN            5              5         1.0  \n",
       "1          3.0     2.0     1.0            5              5         5.0  \n",
       "2          NaN     NaN     NaN            5              5         1.0  \n",
       "\n",
       "[3 rows x 56 columns]"
      ]
     },
     "execution_count": 2,
     "metadata": {},
     "output_type": "execute_result"
    }
   ],
   "source": [
    "df = twins_data()\n",
    "\n",
    "df.head(3)"
   ]
  },
  {
   "cell_type": "code",
   "execution_count": 5,
   "metadata": {},
   "outputs": [],
   "source": [
    "# we're going to talk about interaction effects i.e. \"what is the interaction between predictors x1 and x2\"\n",
    "\n",
    "# but first - starting simple\n",
    "\n",
    "# dependent/target variable is going to be the combined birthweight of the twins\n",
    "# ML - target (y)\n",
    "# trad/stats - dependent (y)\n",
    "\n",
    "# not a perfect measure of health, but good enough\n",
    "\n",
    "# independent/feature variables\n",
    "# one binary - tobacco\n",
    "# one continuous/integer - total number of birth before the current one (twins)\n",
    "\n",
    "df['combined_weight'] = df['dbirwt_0'] + df['dbirwt_1']"
   ]
  },
  {
   "cell_type": "code",
   "execution_count": 6,
   "metadata": {},
   "outputs": [
    {
     "data": {
      "text/plain": [
       "Intercept    4853.475575\n",
       "tobacco      -391.497367\n",
       "dtype: float64"
      ]
     },
     "execution_count": 6,
     "metadata": {},
     "output_type": "execute_result"
    }
   ],
   "source": [
    "# combined_weight ~ tobacco\n",
    "\n",
    "result = smf.ols(\"combined_weight ~ tobacco\",data = df[['combined_weight','tobacco']]).fit()\n",
    "result.params\n"
   ]
  },
  {
   "cell_type": "code",
   "execution_count": null,
   "metadata": {},
   "outputs": [],
   "source": [
    "# predicted y = intercept + weight_of_x*x\n",
    "\n",
    "# predicted combined weight = 4853 - 391*tobacco{1,0}\n",
    "\n",
    "# for someone who smokes\n",
    "\n",
    "# predicted combined weight = 4853 - 391*1 = 4853 - 391 = 4462\n",
    "\n",
    "# for someone who does not smoke\n",
    "\n",
    "# predicted combined weight = 4853 - 391*0 = 4853"
   ]
  },
  {
   "cell_type": "code",
   "execution_count": 9,
   "metadata": {},
   "outputs": [
    {
     "data": {
      "text/plain": [
       "tobacco\n",
       "0.0    4853.475575\n",
       "1.0    4461.978207\n",
       "Name: combined_weight, dtype: float64"
      ]
     },
     "execution_count": 9,
     "metadata": {},
     "output_type": "execute_result"
    }
   ],
   "source": [
    "df[~df['tobacco'].isna()].groupby('tobacco')['combined_weight'].mean()"
   ]
  },
  {
   "cell_type": "code",
   "execution_count": 14,
   "metadata": {},
   "outputs": [],
   "source": [
    "# combined_weight ~ tobacco + number_of_prior_births\n",
    "\n",
    "df.rename(columns={\"dtotord_min\":\"number_of_prior_births\"},inplace=True)"
   ]
  },
  {
   "cell_type": "code",
   "execution_count": 16,
   "metadata": {},
   "outputs": [
    {
     "data": {
      "text/plain": [
       "7318"
      ]
     },
     "execution_count": 16,
     "metadata": {},
     "output_type": "execute_result"
    }
   ],
   "source": [
    "df['number_of_prior_births'].isna().sum()"
   ]
  },
  {
   "cell_type": "code",
   "execution_count": 17,
   "metadata": {},
   "outputs": [
    {
     "data": {
      "text/plain": [
       "count    64027.000000\n",
       "mean         2.510082\n",
       "std          1.592072\n",
       "min          1.000000\n",
       "25%          1.000000\n",
       "50%          2.000000\n",
       "75%          3.000000\n",
       "max         21.000000\n",
       "Name: number_of_prior_births, dtype: float64"
      ]
     },
     "execution_count": 17,
     "metadata": {},
     "output_type": "execute_result"
    }
   ],
   "source": [
    "df['number_of_prior_births'].describe() # leverage"
   ]
  },
  {
   "cell_type": "code",
   "execution_count": 18,
   "metadata": {},
   "outputs": [
    {
     "data": {
      "text/plain": [
       "0"
      ]
     },
     "execution_count": 18,
     "metadata": {},
     "output_type": "execute_result"
    }
   ],
   "source": [
    "df['number_of_prior_births'].fillna(0,inplace=True)\n",
    "df['number_of_prior_births'].isna().sum()"
   ]
  },
  {
   "cell_type": "code",
   "execution_count": 19,
   "metadata": {},
   "outputs": [
    {
     "data": {
      "text/plain": [
       "Intercept                 4740.043471\n",
       "tobacco                   -420.000603\n",
       "number_of_prior_births      52.022326\n",
       "dtype: float64"
      ]
     },
     "execution_count": 19,
     "metadata": {},
     "output_type": "execute_result"
    }
   ],
   "source": [
    "regression_2_columns = ['combined_weight','tobacco','number_of_prior_births']\n",
    "result = smf.ols(\"combined_weight ~ tobacco + number_of_prior_births\",data = df[regression_2_columns]).fit()\n",
    "result.params"
   ]
  },
  {
   "cell_type": "code",
   "execution_count": 20,
   "metadata": {},
   "outputs": [
    {
     "data": {
      "image/png": "[encoded data removed]",
      "text/plain": [
       "<Figure size 640x480 with 1 Axes>"
      ]
     },
     "metadata": {},
     "output_type": "display_data"
    }
   ],
   "source": [
    "# predicted y = intercept + weight_for_x1*x1 + weight_for_x2*x2\n",
    "\n",
    "# predicted combined weight = 4740 - 420*tobacco + 52*number_of_prior_births\n",
    "\n",
    "# for smokers\n",
    "\n",
    "# 4740 - 420*1 + 52*number_of_prior_births\n",
    "\n",
    "# 4320 + 52*number_of_prior_births\n",
    "\n",
    "# for non-smokers\n",
    "# 4740 + 52*number_of_prior_births\n",
    "\n",
    "number_of_prior_births_range = np.arange(0,22)\n",
    "\n",
    "combined_weight_predicted_smokers = 4320 + 52*number_of_prior_births_range\n",
    "\n",
    "combined_weight_predicted_nonsmokers = 4740 + 52*number_of_prior_births_range\n",
    "\n",
    "plt.figure()\n",
    "plt.plot(number_of_prior_births_range,combined_weight_predicted_smokers,c = \"red\",label = \"smokers\")\n",
    "plt.plot(number_of_prior_births_range,combined_weight_predicted_nonsmokers,c = \"blue\",label = \"non-smokers\")\n",
    "plt.title(\"predicted combined weight as a function of number of prior births\")\n",
    "plt.legend()\n",
    "plt.show()\n",
    "\n",
    "\n"
   ]
  },
  {
   "cell_type": "code",
   "execution_count": 21,
   "metadata": {},
   "outputs": [
    {
     "data": {
      "text/plain": [
       "Intercept                         4710.300989\n",
       "tobacco                           -252.368422\n",
       "number_of_prior_births              65.662848\n",
       "tobacco:number_of_prior_births     -64.180035\n",
       "dtype: float64"
      ]
     },
     "execution_count": 21,
     "metadata": {},
     "output_type": "execute_result"
    }
   ],
   "source": [
    "# interaction term\n",
    "\n",
    "result = smf.ols(\"combined_weight ~ tobacco*number_of_prior_births\",data = df[regression_2_columns]).fit()\n",
    "result.params"
   ]
  },
  {
   "cell_type": "code",
   "execution_count": 22,
   "metadata": {},
   "outputs": [
    {
     "data": {
      "image/png": "[encoded data removed]",
      "text/plain": [
       "<Figure size 640x480 with 1 Axes>"
      ]
     },
     "metadata": {},
     "output_type": "display_data"
    }
   ],
   "source": [
    "# tobacco -> weight\n",
    "# tobacco -> number of prior births -> weight\n",
    "\n",
    "# non-smokers\n",
    "\n",
    "# 4710 + 65*number_of_prior_births\n",
    "\n",
    "# smokers\n",
    "\n",
    "# 4458 + 65*number_of_prior_births - 64*number_of_prior_births = 4523 - number_of_prior_births\n",
    "\n",
    "\n",
    "number_of_prior_births_range = np.arange(0,22)\n",
    "\n",
    "combined_weight_predicted_smokers = 4523 - number_of_prior_births_range\n",
    "\n",
    "combined_weight_predicted_nonsmokers = 4710 + 65*number_of_prior_births_range\n",
    "\n",
    "plt.figure()\n",
    "plt.plot(number_of_prior_births_range,combined_weight_predicted_smokers,c = \"red\",label = \"smokers\")\n",
    "plt.plot(number_of_prior_births_range,combined_weight_predicted_nonsmokers,c = \"blue\",label = \"non-smokers\")\n",
    "plt.title(\"predicted combined weight as a function of number of prior births\")\n",
    "plt.legend()\n",
    "plt.show()\n",
    "\n",
    "\n"
   ]
  },
  {
   "cell_type": "code",
   "execution_count": null,
   "metadata": {},
   "outputs": [],
   "source": []
  }
 ],
 "metadata": {
  "kernelspec": {
   "display_name": "basic",
   "language": "python",
   "name": "python3"
  },
  "language_info": {
   "codemirror_mode": {
    "name": "ipython",
    "version": 3
   },
   "file_extension": ".py",
   "mimetype": "text/x-python",
   "name": "python",
   "nbconvert_exporter": "python",
   "pygments_lexer": "ipython3",
   "version": "3.11.7"
  },
  "orig_nbformat": 4
 },
 "nbformat": 4,
 "nbformat_minor": 2
}
