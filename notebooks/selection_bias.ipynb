{
 "cells": [
  {
   "cell_type": "code",
   "execution_count": null,
   "metadata": {},
   "outputs": [],
   "source": [
    "import pandas as pd\n",
    "import numpy as np\n",
    "import matplotlib.pyplot as plt\n",
    "import statsmodels.formula.api as smf\n",
    "import graphviz as gr\n",
    "from utils.simdata import email_collections\n",
    "\n",
    "df = email_collections()"
   ]
  },
  {
   "cell_type": "code",
   "execution_count": null,
   "metadata": {},
   "outputs": [],
   "source": [
    "# dataset: email collections\n",
    "# payments ~ email\n",
    "# selection bias!\n",
    "# if there's time, we'll talk about \"conditional on positives\""
   ]
  },
  {
   "cell_type": "markdown",
   "metadata": {},
   "source": [
    "#### examples of selection bias (from matheus facure)\n",
    "\n",
    "1. Adding a dummy for paying the entire debt when trying to estimate the effect of a collections strategy on payments.\n",
    "2. Controlling for white vs blue collar jobs when trying to estimate the effect of schooling on earnings\n",
    "3. Controlling for conversion when estimating the impact of interest rates on loan duration\n",
    "4. Controlling for marital happiness when estimating the impact of children on extramarital affairs\n"
   ]
  },
  {
   "cell_type": "code",
   "execution_count": null,
   "metadata": {},
   "outputs": [],
   "source": [
    "# what do the above have in common?"
   ]
  }
 ],
 "metadata": {
  "language_info": {
   "name": "python"
  },
  "orig_nbformat": 4
 },
 "nbformat": 4,
 "nbformat_minor": 2
}
