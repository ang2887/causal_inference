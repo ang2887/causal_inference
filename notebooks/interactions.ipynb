{
 "cells": [
  {
   "cell_type": "code",
   "execution_count": 1,
   "metadata": {},
   "outputs": [],
   "source": [
    "# dataset\n",
    "\n",
    "# twin births in the US 1989-1991\n",
    "\n",
    "# birthweight of the twin0 twin1\n",
    "# mortality outcome for twin0 twin1\n",
    "\n",
    "# 50 health related features about the mother of the twins"
   ]
  },
  {
   "cell_type": "code",
   "execution_count": 1,
   "metadata": {},
   "outputs": [],
   "source": [
    "import pandas as pd\n",
    "import numpy as np\n",
    "import matplotlib.pyplot as plt\n",
    "import statsmodels.formula.api as smf\n",
    "import graphviz as gr\n",
    "import os\n",
    "\n",
    "def twins_data():\n",
    "    twin_pairs_dfs = []\n",
    "\n",
    "    for file in os.listdir('../data/'):\n",
    "        if 'twin_pairs' in file:\n",
    "            df = pd.read_csv(f\"../data/{file}\")\n",
    "            unwanted_columns = [col for col in df.columns if 'Unnamed' in col]\n",
    "            df.drop(columns=unwanted_columns,inplace=True)\n",
    "            twin_pairs_dfs.append(df)\n",
    "\n",
    "    df = pd.concat(twin_pairs_dfs, axis=1)\n",
    "\n",
    "    return df\n"
   ]
  },
  {
   "cell_type": "code",
   "execution_count": 2,
   "metadata": {},
   "outputs": [],
   "source": [
    "df = twins_data()"
   ]
  },
  {
   "cell_type": "code",
   "execution_count": 5,
   "metadata": {},
   "outputs": [
    {
     "data": {
      "text/html": [
       "<div>\n",
       "<style scoped>\n",
       "    .dataframe tbody tr th:only-of-type {\n",
       "        vertical-align: middle;\n",
       "    }\n",
       "\n",
       "    .dataframe tbody tr th {\n",
       "        vertical-align: top;\n",
       "    }\n",
       "\n",
       "    .dataframe thead th {\n",
       "        text-align: right;\n",
       "    }\n",
       "</style>\n",
       "<table border=\"1\" class=\"dataframe\">\n",
       "  <thead>\n",
       "    <tr style=\"text-align: right;\">\n",
       "      <th></th>\n",
       "      <th>dbirwt_0</th>\n",
       "      <th>dbirwt_1</th>\n",
       "      <th>mort_0</th>\n",
       "      <th>mort_1</th>\n",
       "      <th>pldel</th>\n",
       "      <th>birattnd</th>\n",
       "      <th>brstate</th>\n",
       "      <th>stoccfipb</th>\n",
       "      <th>mager8</th>\n",
       "      <th>ormoth</th>\n",
       "      <th>...</th>\n",
       "      <th>feduc6</th>\n",
       "      <th>infant_id_0</th>\n",
       "      <th>infant_id_1</th>\n",
       "      <th>dlivord_min</th>\n",
       "      <th>dtotord_min</th>\n",
       "      <th>bord_0</th>\n",
       "      <th>bord_1</th>\n",
       "      <th>brstate_reg</th>\n",
       "      <th>stoccfipb_reg</th>\n",
       "      <th>mplbir_reg</th>\n",
       "    </tr>\n",
       "  </thead>\n",
       "  <tbody>\n",
       "    <tr>\n",
       "      <th>0</th>\n",
       "      <td>2268.0</td>\n",
       "      <td>2296.0</td>\n",
       "      <td>0.0</td>\n",
       "      <td>0.0</td>\n",
       "      <td>1.0</td>\n",
       "      <td>1.0</td>\n",
       "      <td>1</td>\n",
       "      <td>1</td>\n",
       "      <td>3</td>\n",
       "      <td>0.0</td>\n",
       "      <td>...</td>\n",
       "      <td>NaN</td>\n",
       "      <td>1</td>\n",
       "      <td>0</td>\n",
       "      <td>NaN</td>\n",
       "      <td>NaN</td>\n",
       "      <td>NaN</td>\n",
       "      <td>NaN</td>\n",
       "      <td>5</td>\n",
       "      <td>5</td>\n",
       "      <td>1.0</td>\n",
       "    </tr>\n",
       "  </tbody>\n",
       "</table>\n",
       "<p>1 rows × 56 columns</p>\n",
       "</div>"
      ],
      "text/plain": [
       "   dbirwt_0  dbirwt_1  mort_0  mort_1  pldel  birattnd  brstate  stoccfipb  \\\n",
       "0    2268.0    2296.0     0.0     0.0    1.0       1.0        1          1   \n",
       "\n",
       "   mager8  ormoth  ...  feduc6  infant_id_0  infant_id_1  dlivord_min  \\\n",
       "0       3     0.0  ...     NaN            1            0          NaN   \n",
       "\n",
       "   dtotord_min  bord_0  bord_1  brstate_reg  stoccfipb_reg  mplbir_reg  \n",
       "0          NaN     NaN     NaN            5              5         1.0  \n",
       "\n",
       "[1 rows x 56 columns]"
      ]
     },
     "execution_count": 5,
     "metadata": {},
     "output_type": "execute_result"
    }
   ],
   "source": [
    "df.head(1)"
   ]
  },
  {
   "cell_type": "code",
   "execution_count": null,
   "metadata": {},
   "outputs": [],
   "source": [
    "# combined_birthweight as a function of risk factors of the mother AND smoking\n",
    "\n",
    "# combined_birthweight is just a measure of infant health (dbwrt_0 + dbwrt_1)\n",
    "# not a perfect measure\n",
    "# 1. a newborn can be heavy but still unhealthy somehow\n",
    "# 2. one of the two twins might be a ALOT heavier than the other - this would conceal that\n",
    "\n",
    "# smoking (tobacco = 1 or 0 for smokes or does not)\n",
    "# total of number of births before the current one \n",
    "\n",
    "# the setup above is somewhat contrived - because we want our regression to look a certain way\n",
    "# there's a separate topic of - how do we determine the best variables to include in our regression\n",
    "# but that is not our focus here"
   ]
  },
  {
   "cell_type": "code",
   "execution_count": 6,
   "metadata": {},
   "outputs": [
    {
     "data": {
      "image/png": "[encoded data removed]",
      "text/plain": [
       "<Figure size 640x480 with 1 Axes>"
      ]
     },
     "metadata": {},
     "output_type": "display_data"
    }
   ],
   "source": [
    "df['combined_birthweight'] = df['dbirwt_0'] + df['dbirwt_1']\n",
    "\n",
    "plt.figure()\n",
    "plt.hist(df['combined_birthweight'])\n",
    "plt.title(\"distribution of combined birthweight\")\n",
    "plt.show()"
   ]
  },
  {
   "cell_type": "code",
   "execution_count": 10,
   "metadata": {},
   "outputs": [
    {
     "data": {
      "text/plain": [
       "tobacco\n",
       "0.0    0.837035\n",
       "1.0    0.162965\n",
       "Name: proportion, dtype: float64"
      ]
     },
     "execution_count": 10,
     "metadata": {},
     "output_type": "execute_result"
    }
   ],
   "source": [
    "df['tobacco'].value_counts(normalize=True)"
   ]
  },
  {
   "cell_type": "code",
   "execution_count": 15,
   "metadata": {},
   "outputs": [
    {
     "data": {
      "text/plain": [
       "cigar6                  0.276347\n",
       "tobacco                 0.269872\n",
       "drink5                  0.256766\n",
       "alcohol                 0.251216\n",
       "feduc6                  0.205747\n",
       "orfath                  0.165702\n",
       "dfageq                  0.155820\n",
       "herpes                  0.148097\n",
       "frace                   0.143808\n",
       "uterine                 0.108207\n",
       "dtotord_min             0.102572\n",
       "dlivord_min             0.101254\n",
       "bord_0                  0.101254\n",
       "bord_1                  0.101254\n",
       "incervix                0.099320\n",
       "hydra                   0.099320\n",
       "preterm                 0.099320\n",
       "hemo                    0.099320\n",
       "pre4000                 0.099320\n",
       "rh                      0.070292\n",
       "meduc6                  0.060817\n",
       "renal                   0.059430\n",
       "eclamp                  0.059430\n",
       "phyper                  0.059430\n",
       "othermr                 0.059430\n",
       "chyper                  0.059430\n",
       "anemia                  0.059430\n",
       "diabetes                0.059430\n",
       "lung                    0.059430\n",
       "cardiac                 0.059430\n",
       "adequacy                0.044418\n",
       "nprevistq               0.032939\n",
       "ormoth                  0.028397\n",
       "mpre5                   0.022805\n",
       "birattnd                0.001598\n",
       "mplbir                  0.001514\n",
       "mplbir_reg              0.001514\n",
       "pldel                   0.000336\n",
       "data_year               0.000000\n",
       "infant_id_0             0.000000\n",
       "infant_id_1             0.000000\n",
       "brstate_reg             0.000000\n",
       "stoccfipb_reg           0.000000\n",
       "dbirwt_0                0.000000\n",
       "crace                   0.000000\n",
       "dbirwt_1                0.000000\n",
       "csex                    0.000000\n",
       "gestat10                0.000000\n",
       "birmon                  0.000000\n",
       "dmar                    0.000000\n",
       "mrace                   0.000000\n",
       "mager8                  0.000000\n",
       "stoccfipb               0.000000\n",
       "brstate                 0.000000\n",
       "mort_1                  0.000000\n",
       "mort_0                  0.000000\n",
       "combined_birthweight    0.000000\n",
       "dtype: float64"
      ]
     },
     "execution_count": 15,
     "metadata": {},
     "output_type": "execute_result"
    }
   ],
   "source": [
    "# othermr\n",
    "df.isna().mean().sort_values(ascending=False)"
   ]
  },
  {
   "cell_type": "code",
   "execution_count": 16,
   "metadata": {},
   "outputs": [],
   "source": [
    "var_types = {'adequacy': 'cat',\n",
    " 'alcohol': 'bin',\n",
    " 'anemia': 'bin',\n",
    " 'birattnd': 'cat',\n",
    " 'birmon': 'cyc',\n",
    " 'bord': 'bin',\n",
    " 'brstate': 'cat',\n",
    " 'brstate_reg': 'cat', \n",
    " 'cardiac': 'bin',\n",
    " 'chyper': 'bin',\n",
    " 'cigar6': 'cat',\n",
    " 'crace': 'cat',\n",
    " 'csex': 'bin',\n",
    " 'data_year': 'cat',\n",
    " 'dfageq': 'cat',\n",
    " 'diabetes': 'bin',\n",
    " 'dlivord_min': 'ord',\n",
    " 'dmar': 'bin',\n",
    " 'drink5': 'cat',\n",
    " 'dtotord_min': 'ord',\n",
    " 'eclamp': 'bin',\n",
    " 'feduc6': 'cat',\n",
    " 'frace': 'cat',\n",
    " 'gestat10': 'cat',\n",
    " 'hemo': 'bin',\n",
    " 'herpes': 'bin',\n",
    " 'hydra': 'bin',\n",
    " 'incervix': 'bin',\n",
    " 'infant_id': 'index do not use',\n",
    " 'lung': 'bin',\n",
    " 'mager8': 'cat',\n",
    " 'meduc6': 'cat',\n",
    " 'mplbir': 'cat',\n",
    " 'mpre5': 'cat',\n",
    " 'mrace': 'cat',\n",
    " 'nprevistq': 'cat',\n",
    " 'orfath': 'cat',\n",
    " 'ormoth': 'cat',\n",
    " 'othermr': 'bin',\n",
    " 'phyper': 'bin',\n",
    " 'pldel': 'cat',\n",
    " 'pre4000': 'bin',\n",
    " 'preterm': 'bin',\n",
    " 'renal': 'bin',\n",
    " 'rh': 'bin',\n",
    " 'stoccfipb': 'cat',\n",
    " 'stoccfipb_reg': 'cat',\n",
    " 'tobacco': 'bin',\n",
    " 'uterine': 'bin'}"
   ]
  },
  {
   "cell_type": "code",
   "execution_count": 18,
   "metadata": {},
   "outputs": [
    {
     "name": "stdout",
     "output_type": "stream",
     "text": [
      "dlivord_min\n",
      "dtotord_min\n"
     ]
    }
   ],
   "source": [
    "for var in var_types:\n",
    "    if var_types[var] == 'ord':\n",
    "        print(var)"
   ]
  },
  {
   "cell_type": "code",
   "execution_count": 28,
   "metadata": {},
   "outputs": [
    {
     "data": {
      "text/plain": [
       "64027"
      ]
     },
     "execution_count": 28,
     "metadata": {},
     "output_type": "execute_result"
    }
   ],
   "source": [
    "df['total_number_of_births_before_twins'].value_counts().sort_values().sum()"
   ]
  },
  {
   "cell_type": "code",
   "execution_count": 26,
   "metadata": {},
   "outputs": [
    {
     "data": {
      "text/plain": [
       "7318"
      ]
     },
     "execution_count": 26,
     "metadata": {},
     "output_type": "execute_result"
    }
   ],
   "source": [
    "df['total_number_of_births_before_twins'].isna().sum()"
   ]
  },
  {
   "cell_type": "code",
   "execution_count": 30,
   "metadata": {},
   "outputs": [
    {
     "data": {
      "text/plain": [
       "0"
      ]
     },
     "execution_count": 30,
     "metadata": {},
     "output_type": "execute_result"
    }
   ],
   "source": [
    "(df['total_number_of_births_before_twins'] == 0).sum()"
   ]
  },
  {
   "cell_type": "code",
   "execution_count": 29,
   "metadata": {},
   "outputs": [
    {
     "data": {
      "text/plain": [
       "True"
      ]
     },
     "execution_count": 29,
     "metadata": {},
     "output_type": "execute_result"
    }
   ],
   "source": [
    "(64027 + 7318) == df.shape[0]"
   ]
  },
  {
   "cell_type": "code",
   "execution_count": 31,
   "metadata": {},
   "outputs": [
    {
     "data": {
      "text/plain": [
       "0.10257200925082344"
      ]
     },
     "execution_count": 31,
     "metadata": {},
     "output_type": "execute_result"
    }
   ],
   "source": [
    "1 - (df['total_number_of_births_before_twins'].value_counts().sort_values().sum()/df.shape[0])"
   ]
  },
  {
   "cell_type": "code",
   "execution_count": 34,
   "metadata": {},
   "outputs": [],
   "source": [
    "df['total_number_of_births_before_twins'].fillna(0,inplace=True)"
   ]
  },
  {
   "cell_type": "code",
   "execution_count": 22,
   "metadata": {},
   "outputs": [
    {
     "data": {
      "text/plain": [
       "Intercept    4853.475575\n",
       "tobacco      -391.497367\n",
       "dtype: float64"
      ]
     },
     "execution_count": 22,
     "metadata": {},
     "output_type": "execute_result"
    }
   ],
   "source": [
    "# simple linear regression in one variable\n",
    "# combined_birthweight ~ tobacco\n",
    "\n",
    "result = smf.ols(\"combined_birthweight ~ tobacco\",data = df[['combined_birthweight','tobacco']]).fit()\n",
    "result.params"
   ]
  },
  {
   "cell_type": "code",
   "execution_count": null,
   "metadata": {},
   "outputs": [],
   "source": [
    "# predicted y = intercept + coefficient_x*x\n",
    "\n",
    "# predicted combined_birthweight = 4853 - 391*tobacco{0,1}\n",
    "\n",
    "# for someone who smokes, the combined birthweight prediction is\n",
    "\n",
    "# 4462\n",
    "\n",
    "# for someone who does not smoke, combined birthweight prediction is\n",
    "\n",
    "# 4853"
   ]
  },
  {
   "cell_type": "code",
   "execution_count": 23,
   "metadata": {},
   "outputs": [
    {
     "data": {
      "text/plain": [
       "tobacco\n",
       "0.0    4853.475575\n",
       "1.0    4461.978207\n",
       "Name: combined_birthweight, dtype: float64"
      ]
     },
     "execution_count": 23,
     "metadata": {},
     "output_type": "execute_result"
    }
   ],
   "source": [
    "df[~df['tobacco'].isna()].groupby('tobacco')['combined_birthweight'].mean()"
   ]
  },
  {
   "cell_type": "code",
   "execution_count": 24,
   "metadata": {},
   "outputs": [],
   "source": [
    "df.rename(columns={'dtotord_min':'total_number_of_births_before_twins'}, inplace=True)"
   ]
  },
  {
   "cell_type": "code",
   "execution_count": 36,
   "metadata": {},
   "outputs": [
    {
     "data": {
      "text/plain": [
       "Intercept                              4740.043471\n",
       "tobacco                                -420.000603\n",
       "total_number_of_births_before_twins      52.022326\n",
       "dtype: float64"
      ]
     },
     "execution_count": 36,
     "metadata": {},
     "output_type": "execute_result"
    }
   ],
   "source": [
    "# regression number 2\n",
    "# combined_birthweight ~ tobacco + total_number_of_births_before_twins\n",
    "\n",
    "# regression columns list\n",
    "regression_2_columns = ['combined_birthweight','tobacco','total_number_of_births_before_twins']\n",
    "\n",
    "results = smf.ols(\"combined_birthweight ~ tobacco + total_number_of_births_before_twins\",data = df[regression_2_columns]).fit()\n",
    "\n",
    "results.params"
   ]
  },
  {
   "cell_type": "code",
   "execution_count": null,
   "metadata": {},
   "outputs": [],
   "source": [
    "# predicted y = intercept + coefficient_x1*x1 + coefficient_x2*x2\n",
    "\n",
    "# predicted combined birthweight = 4740 - 420*tobacco + 52*total_number_of_births_before_twins\n",
    "\n",
    "# smokers and non-smokers have a different line\n",
    "\n"
   ]
  },
  {
   "cell_type": "code",
   "execution_count": null,
   "metadata": {},
   "outputs": [],
   "source": []
  }
 ],
 "metadata": {
  "kernelspec": {
   "display_name": "basic",
   "language": "python",
   "name": "python3"
  },
  "language_info": {
   "codemirror_mode": {
    "name": "ipython",
    "version": 3
   },
   "file_extension": ".py",
   "mimetype": "text/x-python",
   "name": "python",
   "nbconvert_exporter": "python",
   "pygments_lexer": "ipython3",
   "version": "3.11.7"
  },
  "orig_nbformat": 4
 },
 "nbformat": 4,
 "nbformat_minor": 2
}
