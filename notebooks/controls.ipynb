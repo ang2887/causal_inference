{
 "cells": [
  {
   "cell_type": "code",
   "execution_count": null,
   "metadata": {},
   "outputs": [],
   "source": [
    "# notebook for 7/10\n",
    "\n",
    "# different regression scenarios\n",
    "\n",
    "# good controls (relationship of interest Y ~ X1)\n",
    "# confound X2 -> X1, X1 -> Y, AND X2 -> Y, then Y ~ X1 + X2 is needed\n",
    "# explaining away variance X1 -> Y, X2 -> Y, then Y ~ X1 + X2 is better than Y ~ X1\n",
    "\n",
    "# bad controls \n",
    "# pipe  X2 -> X1 -> Z // Y ~ X1 is good // Y ~ X1 + X2 is bad\n",
    "# selection bias X1 -> X2, X1 -> Y (tbc...)"
   ]
  }
 ],
 "metadata": {
  "language_info": {
   "name": "python"
  },
  "orig_nbformat": 4
 },
 "nbformat": 4,
 "nbformat_minor": 2
}
